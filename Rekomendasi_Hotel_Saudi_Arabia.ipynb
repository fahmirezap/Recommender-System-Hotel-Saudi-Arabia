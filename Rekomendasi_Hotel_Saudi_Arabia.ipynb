{
  "nbformat": 4,
  "nbformat_minor": 0,
  "metadata": {
    "kernelspec": {
      "display_name": "Python 3",
      "language": "python",
      "name": "python3"
    },
    "language_info": {
      "codemirror_mode": {
        "name": "ipython",
        "version": 3
      },
      "file_extension": ".py",
      "mimetype": "text/x-python",
      "name": "python",
      "nbconvert_exporter": "python",
      "pygments_lexer": "ipython3",
      "version": "3.7.7"
    },
    "colab": {
      "name": "Rekomendasi Hotel Saudi Arabia.ipynb",
      "provenance": [],
      "collapsed_sections": []
    }
  },
  "cells": [
    {
      "cell_type": "code",
      "metadata": {
        "colab": {
          "base_uri": "https://localhost:8080/",
          "height": 421
        },
        "id": "LJ07WLs96Wfx",
        "outputId": "c2316fe6-e991-4e0b-95ad-84d0b7583bce"
      },
      "source": [
        "#Import Library\n",
        "import pandas as pd\n",
        "import numpy as np\n",
        "from sklearn.metrics.pairwise import cosine_similarity\n",
        "from sklearn.feature_extraction.text import TfidfVectorizer\n",
        "from nltk.corpus import stopwords\n",
        "\n",
        "#Read Dataset CSV\n",
        "df = pd.read_csv(\"Hotel Saudi Arabia.csv\")\n",
        "df.head()"
      ],
      "execution_count": null,
      "outputs": [
        {
          "output_type": "error",
          "ename": "FileNotFoundError",
          "evalue": "ignored",
          "traceback": [
            "\u001b[0;31m---------------------------------------------------------------------------\u001b[0m",
            "\u001b[0;31mFileNotFoundError\u001b[0m                         Traceback (most recent call last)",
            "\u001b[0;32m<ipython-input-2-15564f8cbf66>\u001b[0m in \u001b[0;36m<module>\u001b[0;34m()\u001b[0m\n\u001b[1;32m      7\u001b[0m \u001b[0;34m\u001b[0m\u001b[0m\n\u001b[1;32m      8\u001b[0m \u001b[0;31m#Read Dataset CSV\u001b[0m\u001b[0;34m\u001b[0m\u001b[0;34m\u001b[0m\u001b[0;34m\u001b[0m\u001b[0m\n\u001b[0;32m----> 9\u001b[0;31m \u001b[0mdf\u001b[0m \u001b[0;34m=\u001b[0m \u001b[0mpd\u001b[0m\u001b[0;34m.\u001b[0m\u001b[0mread_csv\u001b[0m\u001b[0;34m(\u001b[0m\u001b[0;34m\"Hotel Saudi Arabia.csv\"\u001b[0m\u001b[0;34m)\u001b[0m\u001b[0;34m\u001b[0m\u001b[0;34m\u001b[0m\u001b[0m\n\u001b[0m\u001b[1;32m     10\u001b[0m \u001b[0mdf\u001b[0m\u001b[0;34m.\u001b[0m\u001b[0mhead\u001b[0m\u001b[0;34m(\u001b[0m\u001b[0;34m)\u001b[0m\u001b[0;34m\u001b[0m\u001b[0;34m\u001b[0m\u001b[0m\n",
            "\u001b[0;32m/usr/local/lib/python3.6/dist-packages/pandas/io/parsers.py\u001b[0m in \u001b[0;36mread_csv\u001b[0;34m(filepath_or_buffer, sep, delimiter, header, names, index_col, usecols, squeeze, prefix, mangle_dupe_cols, dtype, engine, converters, true_values, false_values, skipinitialspace, skiprows, skipfooter, nrows, na_values, keep_default_na, na_filter, verbose, skip_blank_lines, parse_dates, infer_datetime_format, keep_date_col, date_parser, dayfirst, cache_dates, iterator, chunksize, compression, thousands, decimal, lineterminator, quotechar, quoting, doublequote, escapechar, comment, encoding, dialect, error_bad_lines, warn_bad_lines, delim_whitespace, low_memory, memory_map, float_precision)\u001b[0m\n\u001b[1;32m    686\u001b[0m     )\n\u001b[1;32m    687\u001b[0m \u001b[0;34m\u001b[0m\u001b[0m\n\u001b[0;32m--> 688\u001b[0;31m     \u001b[0;32mreturn\u001b[0m \u001b[0m_read\u001b[0m\u001b[0;34m(\u001b[0m\u001b[0mfilepath_or_buffer\u001b[0m\u001b[0;34m,\u001b[0m \u001b[0mkwds\u001b[0m\u001b[0;34m)\u001b[0m\u001b[0;34m\u001b[0m\u001b[0;34m\u001b[0m\u001b[0m\n\u001b[0m\u001b[1;32m    689\u001b[0m \u001b[0;34m\u001b[0m\u001b[0m\n\u001b[1;32m    690\u001b[0m \u001b[0;34m\u001b[0m\u001b[0m\n",
            "\u001b[0;32m/usr/local/lib/python3.6/dist-packages/pandas/io/parsers.py\u001b[0m in \u001b[0;36m_read\u001b[0;34m(filepath_or_buffer, kwds)\u001b[0m\n\u001b[1;32m    452\u001b[0m \u001b[0;34m\u001b[0m\u001b[0m\n\u001b[1;32m    453\u001b[0m     \u001b[0;31m# Create the parser.\u001b[0m\u001b[0;34m\u001b[0m\u001b[0;34m\u001b[0m\u001b[0;34m\u001b[0m\u001b[0m\n\u001b[0;32m--> 454\u001b[0;31m     \u001b[0mparser\u001b[0m \u001b[0;34m=\u001b[0m \u001b[0mTextFileReader\u001b[0m\u001b[0;34m(\u001b[0m\u001b[0mfp_or_buf\u001b[0m\u001b[0;34m,\u001b[0m \u001b[0;34m**\u001b[0m\u001b[0mkwds\u001b[0m\u001b[0;34m)\u001b[0m\u001b[0;34m\u001b[0m\u001b[0;34m\u001b[0m\u001b[0m\n\u001b[0m\u001b[1;32m    455\u001b[0m \u001b[0;34m\u001b[0m\u001b[0m\n\u001b[1;32m    456\u001b[0m     \u001b[0;32mif\u001b[0m \u001b[0mchunksize\u001b[0m \u001b[0;32mor\u001b[0m \u001b[0miterator\u001b[0m\u001b[0;34m:\u001b[0m\u001b[0;34m\u001b[0m\u001b[0;34m\u001b[0m\u001b[0m\n",
            "\u001b[0;32m/usr/local/lib/python3.6/dist-packages/pandas/io/parsers.py\u001b[0m in \u001b[0;36m__init__\u001b[0;34m(self, f, engine, **kwds)\u001b[0m\n\u001b[1;32m    946\u001b[0m             \u001b[0mself\u001b[0m\u001b[0;34m.\u001b[0m\u001b[0moptions\u001b[0m\u001b[0;34m[\u001b[0m\u001b[0;34m\"has_index_names\"\u001b[0m\u001b[0;34m]\u001b[0m \u001b[0;34m=\u001b[0m \u001b[0mkwds\u001b[0m\u001b[0;34m[\u001b[0m\u001b[0;34m\"has_index_names\"\u001b[0m\u001b[0;34m]\u001b[0m\u001b[0;34m\u001b[0m\u001b[0;34m\u001b[0m\u001b[0m\n\u001b[1;32m    947\u001b[0m \u001b[0;34m\u001b[0m\u001b[0m\n\u001b[0;32m--> 948\u001b[0;31m         \u001b[0mself\u001b[0m\u001b[0;34m.\u001b[0m\u001b[0m_make_engine\u001b[0m\u001b[0;34m(\u001b[0m\u001b[0mself\u001b[0m\u001b[0;34m.\u001b[0m\u001b[0mengine\u001b[0m\u001b[0;34m)\u001b[0m\u001b[0;34m\u001b[0m\u001b[0;34m\u001b[0m\u001b[0m\n\u001b[0m\u001b[1;32m    949\u001b[0m \u001b[0;34m\u001b[0m\u001b[0m\n\u001b[1;32m    950\u001b[0m     \u001b[0;32mdef\u001b[0m \u001b[0mclose\u001b[0m\u001b[0;34m(\u001b[0m\u001b[0mself\u001b[0m\u001b[0;34m)\u001b[0m\u001b[0;34m:\u001b[0m\u001b[0;34m\u001b[0m\u001b[0;34m\u001b[0m\u001b[0m\n",
            "\u001b[0;32m/usr/local/lib/python3.6/dist-packages/pandas/io/parsers.py\u001b[0m in \u001b[0;36m_make_engine\u001b[0;34m(self, engine)\u001b[0m\n\u001b[1;32m   1178\u001b[0m     \u001b[0;32mdef\u001b[0m \u001b[0m_make_engine\u001b[0m\u001b[0;34m(\u001b[0m\u001b[0mself\u001b[0m\u001b[0;34m,\u001b[0m \u001b[0mengine\u001b[0m\u001b[0;34m=\u001b[0m\u001b[0;34m\"c\"\u001b[0m\u001b[0;34m)\u001b[0m\u001b[0;34m:\u001b[0m\u001b[0;34m\u001b[0m\u001b[0;34m\u001b[0m\u001b[0m\n\u001b[1;32m   1179\u001b[0m         \u001b[0;32mif\u001b[0m \u001b[0mengine\u001b[0m \u001b[0;34m==\u001b[0m \u001b[0;34m\"c\"\u001b[0m\u001b[0;34m:\u001b[0m\u001b[0;34m\u001b[0m\u001b[0;34m\u001b[0m\u001b[0m\n\u001b[0;32m-> 1180\u001b[0;31m             \u001b[0mself\u001b[0m\u001b[0;34m.\u001b[0m\u001b[0m_engine\u001b[0m \u001b[0;34m=\u001b[0m \u001b[0mCParserWrapper\u001b[0m\u001b[0;34m(\u001b[0m\u001b[0mself\u001b[0m\u001b[0;34m.\u001b[0m\u001b[0mf\u001b[0m\u001b[0;34m,\u001b[0m \u001b[0;34m**\u001b[0m\u001b[0mself\u001b[0m\u001b[0;34m.\u001b[0m\u001b[0moptions\u001b[0m\u001b[0;34m)\u001b[0m\u001b[0;34m\u001b[0m\u001b[0;34m\u001b[0m\u001b[0m\n\u001b[0m\u001b[1;32m   1181\u001b[0m         \u001b[0;32melse\u001b[0m\u001b[0;34m:\u001b[0m\u001b[0;34m\u001b[0m\u001b[0;34m\u001b[0m\u001b[0m\n\u001b[1;32m   1182\u001b[0m             \u001b[0;32mif\u001b[0m \u001b[0mengine\u001b[0m \u001b[0;34m==\u001b[0m \u001b[0;34m\"python\"\u001b[0m\u001b[0;34m:\u001b[0m\u001b[0;34m\u001b[0m\u001b[0;34m\u001b[0m\u001b[0m\n",
            "\u001b[0;32m/usr/local/lib/python3.6/dist-packages/pandas/io/parsers.py\u001b[0m in \u001b[0;36m__init__\u001b[0;34m(self, src, **kwds)\u001b[0m\n\u001b[1;32m   2008\u001b[0m         \u001b[0mkwds\u001b[0m\u001b[0;34m[\u001b[0m\u001b[0;34m\"usecols\"\u001b[0m\u001b[0;34m]\u001b[0m \u001b[0;34m=\u001b[0m \u001b[0mself\u001b[0m\u001b[0;34m.\u001b[0m\u001b[0musecols\u001b[0m\u001b[0;34m\u001b[0m\u001b[0;34m\u001b[0m\u001b[0m\n\u001b[1;32m   2009\u001b[0m \u001b[0;34m\u001b[0m\u001b[0m\n\u001b[0;32m-> 2010\u001b[0;31m         \u001b[0mself\u001b[0m\u001b[0;34m.\u001b[0m\u001b[0m_reader\u001b[0m \u001b[0;34m=\u001b[0m \u001b[0mparsers\u001b[0m\u001b[0;34m.\u001b[0m\u001b[0mTextReader\u001b[0m\u001b[0;34m(\u001b[0m\u001b[0msrc\u001b[0m\u001b[0;34m,\u001b[0m \u001b[0;34m**\u001b[0m\u001b[0mkwds\u001b[0m\u001b[0;34m)\u001b[0m\u001b[0;34m\u001b[0m\u001b[0;34m\u001b[0m\u001b[0m\n\u001b[0m\u001b[1;32m   2011\u001b[0m         \u001b[0mself\u001b[0m\u001b[0;34m.\u001b[0m\u001b[0munnamed_cols\u001b[0m \u001b[0;34m=\u001b[0m \u001b[0mself\u001b[0m\u001b[0;34m.\u001b[0m\u001b[0m_reader\u001b[0m\u001b[0;34m.\u001b[0m\u001b[0munnamed_cols\u001b[0m\u001b[0;34m\u001b[0m\u001b[0;34m\u001b[0m\u001b[0m\n\u001b[1;32m   2012\u001b[0m \u001b[0;34m\u001b[0m\u001b[0m\n",
            "\u001b[0;32mpandas/_libs/parsers.pyx\u001b[0m in \u001b[0;36mpandas._libs.parsers.TextReader.__cinit__\u001b[0;34m()\u001b[0m\n",
            "\u001b[0;32mpandas/_libs/parsers.pyx\u001b[0m in \u001b[0;36mpandas._libs.parsers.TextReader._setup_parser_source\u001b[0;34m()\u001b[0m\n",
            "\u001b[0;31mFileNotFoundError\u001b[0m: [Errno 2] No such file or directory: 'Hotel Saudi Arabia.csv'"
          ]
        }
      ]
    },
    {
      "cell_type": "code",
      "metadata": {
        "colab": {
          "base_uri": "https://localhost:8080/"
        },
        "id": "qrN9pn_W6WgH",
        "outputId": "ac3a075e-b36a-4517-9d47-0d3a0699ad1d"
      },
      "source": [
        "#Analisa Dataset\n",
        "df.describe()\n",
        "df.info()"
      ],
      "execution_count": null,
      "outputs": [
        {
          "output_type": "stream",
          "text": [
            "<class 'pandas.core.frame.DataFrame'>\n",
            "RangeIndex: 2375 entries, 0 to 2374\n",
            "Data columns (total 6 columns):\n",
            " #   Column       Non-Null Count  Dtype  \n",
            "---  ------       --------------  -----  \n",
            " 0   hotel_name   2375 non-null   object \n",
            " 1   description  2375 non-null   object \n",
            " 2   review       2186 non-null   object \n",
            " 3   score        2186 non-null   float64\n",
            " 4   country      2375 non-null   object \n",
            " 5   city         2375 non-null   object \n",
            "dtypes: float64(1), object(5)\n",
            "memory usage: 111.5+ KB\n"
          ],
          "name": "stdout"
        }
      ]
    },
    {
      "cell_type": "code",
      "metadata": {
        "id": "nCQJ2F7c6WgJ"
      },
      "source": [
        "#Fungsi Untuk Menampilkan Deskripsi hotel, Nama, Alamat\n",
        "def print_description(index):\n",
        "    example = df[df.index == index][['description', 'hotel_name', 'city']].values[0]\n",
        "    if len(example) > 0:\n",
        "        print(example[0])\n",
        "        print('Nama:', example[1])\n",
        "        print('Kota:', example[2])        "
      ],
      "execution_count": null,
      "outputs": []
    },
    {
      "cell_type": "code",
      "metadata": {
        "colab": {
          "base_uri": "https://localhost:8080/"
        },
        "id": "jyNkn0Vw6WgK",
        "outputId": "e0a24687-3179-4ada-8c0b-3ec824ee81fe"
      },
      "source": [
        "#Cek\r\n",
        "print_description(1)"
      ],
      "execution_count": null,
      "outputs": [
        {
          "output_type": "stream",
          "text": [
            "نزل مينا 110 has well-equipped accommodations featuring free WiFi in Riyadh, 2.2 miles from Riyadh Gallery Mall and 2.6 miles from Panorama Mall.\n",
            "Nama: نزل مينا 110\n",
            "Kota: Riyadh\n"
          ],
          "name": "stdout"
        }
      ]
    },
    {
      "cell_type": "code",
      "metadata": {
        "colab": {
          "base_uri": "https://localhost:8080/"
        },
        "id": "n8Wp0TH66WgL",
        "outputId": "b872591d-2e6b-4eaa-f713-26ca436a616d"
      },
      "source": [
        "#Cek\r\n",
        "print_description(50)"
      ],
      "execution_count": null,
      "outputs": [
        {
          "output_type": "stream",
          "text": [
            "Located in Riyadh and with King Khalid Grand Mosque reachable within 5 miles, Marriott Riyadh Diplomatic Quarter provides express check-in and check-out, allergy-free rooms, an outdoor swimming pool,...\n",
            "Nama: Marriott Riyadh Diplomatic Quarter\n",
            "Kota: Riyadh\n"
          ],
          "name": "stdout"
        }
      ]
    },
    {
      "cell_type": "code",
      "metadata": {
        "colab": {
          "base_uri": "https://localhost:8080/"
        },
        "id": "ZFGvPDFq6WgM",
        "outputId": "628a7e67-2fa3-475c-bb60-3a66070af0da"
      },
      "source": [
        "#Preprocessing\n",
        "import nltk\n",
        "nltk.download('stopwords')\n",
        "clean_spcl = re.compile('[/(){}\\[\\]\\|@,;]')\n",
        "clean_symbol = re.compile('[^0-9a-z #+_]')\n",
        "stopworda = set(stopwords.words('english'))\n",
        "\n",
        "def clean_text(text):\n",
        "    text = text.lower() # mengubah jadi huruf kecil\n",
        "    text = clean_spcl.sub(' ', text)\n",
        "    text = clean_symbol.sub('', text)\n",
        "    text = ' '.join(word for word in text.split() if word not in stopworda) # hapus stopword dari kolom deskripsi\n",
        "    return text\n",
        "\n",
        "# Buat kolom tambahan untuk data description yang telah dibersihkan   \n",
        "df['desc_clean'] = df['description'].apply(clean_text)"
      ],
      "execution_count": null,
      "outputs": [
        {
          "output_type": "stream",
          "text": [
            "[nltk_data] Downloading package stopwords to /root/nltk_data...\n",
            "[nltk_data]   Package stopwords is already up-to-date!\n"
          ],
          "name": "stdout"
        }
      ]
    },
    {
      "cell_type": "code",
      "metadata": {
        "id": "4Sqx8vxB6WgN"
      },
      "source": [
        "# Fungsi Deskripsi kedua (Setelah preprocessing)\n",
        "def print_description_clean(index):\n",
        "    example = df[df.index == index][['desc_clean', 'hotel_name', 'city']].values[0]\n",
        "    if len(example) > 0:\n",
        "        print(example[0])\n",
        "        print('Nama:', example[1])\n",
        "        print('Kota:', example[2])"
      ],
      "execution_count": null,
      "outputs": []
    },
    {
      "cell_type": "code",
      "metadata": {
        "colab": {
          "base_uri": "https://localhost:8080/"
        },
        "id": "kgYZBEXP6WgO",
        "outputId": "d301dd7e-f678-42fb-fc39-54a600127a19"
      },
      "source": [
        "#Menggunakan TF-IDF dan Cosine Similarity Untuk Mengubah Data menjadi angka matriks\n",
        "df.set_index('hotel_name', inplace=True)\n",
        "tf = TfidfVectorizer(analyzer='word', ngram_range=(1, 3), min_df=0, stop_words='english')\n",
        "tfidf_matrix = tf.fit_transform(df['desc_clean'])\n",
        "cos_sim = cosine_similarity(tfidf_matrix, tfidf_matrix)\n",
        "cos_sim"
      ],
      "execution_count": null,
      "outputs": [
        {
          "output_type": "execute_result",
          "data": {
            "text/plain": [
              "array([[1.00000000e+00, 3.63352306e-03, 1.00963091e-02, ...,\n",
              "        4.75578236e-03, 8.15719055e-03, 7.23093794e-04],\n",
              "       [3.63352306e-03, 1.00000000e+00, 1.04918507e-02, ...,\n",
              "        3.15183127e-03, 1.60300920e-02, 3.94651586e-03],\n",
              "       [1.00963091e-02, 1.04918507e-02, 1.00000000e+00, ...,\n",
              "        4.05285515e-03, 0.00000000e+00, 0.00000000e+00],\n",
              "       ...,\n",
              "       [4.75578236e-03, 3.15183127e-03, 4.05285515e-03, ...,\n",
              "        1.00000000e+00, 7.72778650e-02, 7.12976957e-02],\n",
              "       [8.15719055e-03, 1.60300920e-02, 0.00000000e+00, ...,\n",
              "        7.72778650e-02, 1.00000000e+00, 1.41175201e-01],\n",
              "       [7.23093794e-04, 3.94651586e-03, 0.00000000e+00, ...,\n",
              "        7.12976957e-02, 1.41175201e-01, 1.00000000e+00]])"
            ]
          },
          "metadata": {
            "tags": []
          },
          "execution_count": 32
        }
      ]
    },
    {
      "cell_type": "code",
      "metadata": {
        "colab": {
          "base_uri": "https://localhost:8080/"
        },
        "id": "0U_mmfQp6WgP",
        "outputId": "fd6f21dc-c02f-4dfa-d1c6-44b29a3e6500"
      },
      "source": [
        "# Set index utama di kolom 'name' untuk melakukan rekomendasi hotel\n",
        "indices = pd.Series(df.index)\n",
        "indices[:50]"
      ],
      "execution_count": null,
      "outputs": [
        {
          "output_type": "execute_result",
          "data": {
            "text/plain": [
              "0                     Reef Al Malaz Hotel International\n",
              "1                                          نزل مينا 110\n",
              "2                      Hilton Riyadh Hotel & Residences\n",
              "3                               Executives Hotel / KAFD\n",
              "4                                          OYO 359 Amar\n",
              "5                         Capital O 419 Al Safeer Hotel\n",
              "6                                     Rose Garden Hotel\n",
              "7     Sama Al Nakheel Furnished Apartments-Families ...\n",
              "8                                 Centro Waha by Rotana\n",
              "9                      OYO 150 Al Hamra Palace Al Aswaq\n",
              "10                   Courtyard by Marriott Riyadh Olaya\n",
              "11                        الغرف الهادئة للوحدات السكنية\n",
              "12                                    Almakan Hotel 108\n",
              "13                                          Awrad Royal\n",
              "14                                 Al Waha Palace Hotel\n",
              "15                           Capital O 162 Brzeen Hotel\n",
              "16                                    Almakan Hotel 105\n",
              "17                        Elite Suites Hotel - Al Muruj\n",
              "18                               Comfort Inn ِAl Taawon\n",
              "19                  Rest Night Hotel Suites- AL Ta`awon\n",
              "20                             OYO 165 Orchida Al Hamra\n",
              "21                                      Braira Qurtubah\n",
              "22                        Crowne Plaza - Riyadh Al Waha\n",
              "23                                Hayat Al Riyadh Hotel\n",
              "24                               Rosh Rayhaan by Rotana\n",
              "25                           Hyatt Regency Riyadh Olaya\n",
              "26                        Capital O 237 Andalusia Hotel\n",
              "27                                         Holiday Plus\n",
              "28                                     هذا منزلى غرناطه\n",
              "29                                         فندق العروبة\n",
              "30                              OYO 146 Al Asemah Hotel\n",
              "31                                     Taleen Al Naseem\n",
              "32                                 Manazel Maali Suites\n",
              "33                       Ramada by Wyndham Hotel Riyadh\n",
              "34                                    Almakan Hotel 103\n",
              "35                              Burj Rafal Hotel Riyadh\n",
              "36                        Durrat Al Riyadh Resort & Spa\n",
              "37                                        Boudl Al Qasr\n",
              "38                                      OYO 444 Al Diar\n",
              "39                                     OYO 302 Maamoura\n",
              "40                    Dar Hashim Hotel Suites - Alnuzha\n",
              "41                        Riyadh Airport Marriott Hotel\n",
              "42                     Maqsoret Mersal Hotel Apartments\n",
              "43      Courtyard Riyadh by Marriott Diplomatic Quarter\n",
              "44                          Almuhaidb Residence Ghranta\n",
              "45                                       Taj Al Qouds 3\n",
              "46                          Yamama Palace Maazer Branch\n",
              "47                        This is My Home Al Hamra Plus\n",
              "48                                   Aloft Riyadh Hotel\n",
              "49                                Najmat Manami Azizyya\n",
              "Name: hotel_name, dtype: object"
            ]
          },
          "metadata": {
            "tags": []
          },
          "execution_count": 33
        }
      ]
    },
    {
      "cell_type": "code",
      "metadata": {
        "id": "AK2CYuPo6WgQ"
      },
      "source": [
        "#Modelling\n",
        "def recommendations(name, cos_sim = cos_sim):\n",
        "    \n",
        "    recommended_hotel = []\n",
        "    \n",
        "    # Mengambil nama hotel berdasarkan variabel indicies\n",
        "    idx = indices[indices == name].index[0]\n",
        "\n",
        "    # Membuat series berdasarkan skor kesamaan\n",
        "    score_series = pd.Series(cos_sim[idx]).sort_values(ascending = False)\n",
        "\n",
        "    # mengambil index dan dibuat 10 baris rekomendasi terbaik\n",
        "    top_10_indexes = list(score_series.iloc[1:11].index)\n",
        "    \n",
        "    for i in top_10_indexes:\n",
        "        recommended_hotel.append(list(df.index)[i])\n",
        "        \n",
        "    return recommended_hotel"
      ],
      "execution_count": null,
      "outputs": []
    },
    {
      "cell_type": "code",
      "metadata": {
        "colab": {
          "base_uri": "https://localhost:8080/"
        },
        "id": "rP9Dh1Qa6WgR",
        "outputId": "fe51f8b8-5c7b-4ad8-afea-d0dc7430dd46"
      },
      "source": [
        "#Cek rekomendasi hotel\r\n",
        "recommendations('Hilton Riyadh Hotel & Residences')"
      ],
      "execution_count": null,
      "outputs": [
        {
          "output_type": "execute_result",
          "data": {
            "text/plain": [
              "['Jeddah Hilton',\n",
              " 'Rahty Home Hotel Apartments',\n",
              " 'Ray Kady Hotel Apartment 1',\n",
              " 'Dorar Darea Hotel Apartments - Al Mughrizat',\n",
              " 'Goot Resorts',\n",
              " 'Rayatna For Furnished Apartments 3',\n",
              " 'Taleen Granada hotel apartments',\n",
              " 'Duset Hotel Suites',\n",
              " 'Hawraa Ishbeelyah (Families Only)',\n",
              " 'Narcissus Hotel and SPA Riyadh']"
            ]
          },
          "metadata": {
            "tags": []
          },
          "execution_count": 35
        }
      ]
    },
    {
      "cell_type": "code",
      "metadata": {
        "id": "oQPDQepP6WgS",
        "colab": {
          "base_uri": "https://localhost:8080/",
          "height": 313
        },
        "outputId": "1296611b-986e-478d-b7e8-b99865e732f5"
      },
      "source": [
        "from sklearn.metrics import cclassification_report\r\n",
        "print (classification_report(recommended_hotel))"
      ],
      "execution_count": null,
      "outputs": [
        {
          "output_type": "error",
          "ename": "ImportError",
          "evalue": "ignored",
          "traceback": [
            "\u001b[0;31m---------------------------------------------------------------------------\u001b[0m",
            "\u001b[0;31mImportError\u001b[0m                               Traceback (most recent call last)",
            "\u001b[0;32m<ipython-input-13-9cbc46fec707>\u001b[0m in \u001b[0;36m<module>\u001b[0;34m()\u001b[0m\n\u001b[0;32m----> 1\u001b[0;31m \u001b[0;32mfrom\u001b[0m \u001b[0msklearn\u001b[0m\u001b[0;34m.\u001b[0m\u001b[0mmetrics\u001b[0m \u001b[0;32mimport\u001b[0m \u001b[0mcclassification_report\u001b[0m\u001b[0;34m\u001b[0m\u001b[0;34m\u001b[0m\u001b[0m\n\u001b[0m\u001b[1;32m      2\u001b[0m \u001b[0mprint\u001b[0m \u001b[0;34m(\u001b[0m\u001b[0mclassification_report\u001b[0m\u001b[0;34m(\u001b[0m\u001b[0mrecommended_hotel\u001b[0m\u001b[0;34m)\u001b[0m\u001b[0;34m)\u001b[0m\u001b[0;34m\u001b[0m\u001b[0;34m\u001b[0m\u001b[0m\n",
            "\u001b[0;31mImportError\u001b[0m: cannot import name 'cclassification_report'",
            "",
            "\u001b[0;31m---------------------------------------------------------------------------\u001b[0;32m\nNOTE: If your import is failing due to a missing package, you can\nmanually install dependencies using either !pip or !apt.\n\nTo view examples of installing some common dependencies, click the\n\"Open Examples\" button below.\n\u001b[0;31m---------------------------------------------------------------------------\u001b[0m\n"
          ]
        }
      ]
    }
  ]
}